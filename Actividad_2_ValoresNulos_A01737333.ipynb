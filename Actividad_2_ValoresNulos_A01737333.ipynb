{
  "nbformat": 4,
  "nbformat_minor": 0,
  "metadata": {
    "colab": {
      "provenance": [],
      "authorship_tag": "ABX9TyM8Y9YIw4nlAzmDscQkgdoe",
      "include_colab_link": true
    },
    "kernelspec": {
      "name": "python3",
      "display_name": "Python 3"
    },
    "language_info": {
      "name": "python"
    }
  },
  "cells": [
    {
      "cell_type": "markdown",
      "metadata": {
        "id": "view-in-github",
        "colab_type": "text"
      },
      "source": [
        "<a href=\"https://colab.research.google.com/github/AbrahamMH19/Valores-Nulos/blob/main/Actividad_2_ValoresNulos_A01737333.ipynb\" target=\"_parent\"><img src=\"https://colab.research.google.com/assets/colab-badge.svg\" alt=\"Open In Colab\"/></a>"
      ]
    },
    {
      "cell_type": "code",
      "execution_count": 1,
      "metadata": {
        "id": "OV3XPnLAmaus"
      },
      "outputs": [],
      "source": [
        "#Importamos las librerías pandas, numpy y marplorlub respectivamente\n",
        "import pandas as pd\n",
        "import numpy as np\n",
        "import matplotlib.pyplot as plt\n"
      ]
    },
    {
      "cell_type": "code",
      "source": [
        "#Cargar Archivo csv desde equipo\n",
        "from google.colab import files\n",
        "files.upload()"
      ],
      "metadata": {
        "id": "8qwsywrvnnk0"
      },
      "execution_count": null,
      "outputs": []
    },
    {
      "cell_type": "code",
      "source": [
        "#Carga desde un archvo csv sin indice\n",
        "data= pd.read_csv('Ventas_totales.csv')\n",
        "data.head(10)\n"
      ],
      "metadata": {
        "id": "0buBM-1DpFGg"
      },
      "execution_count": null,
      "outputs": []
    },
    {
      "cell_type": "code",
      "source": [
        "#Eliminar fila 1 o innecesarias\n",
        "#data1= pd.read_csv('Ventas_totales.csv', skiprows=1)\n",
        "#data1"
      ],
      "metadata": {
        "id": "x8dRqjsFprU1"
      },
      "execution_count": null,
      "outputs": []
    },
    {
      "cell_type": "code",
      "source": [
        "#Eliminar columnas 1 y o innecesarias\n",
        "data2= data.drop(['indice_tiempo'], axis=1)\n",
        "data2"
      ],
      "metadata": {
        "id": "MX5HeUZdqCmD"
      },
      "execution_count": null,
      "outputs": []
    },
    {
      "cell_type": "code",
      "source": [
        "#Identificar valores nulos por columna\n",
        "valores_nulos=data2.isnull().sum()\n",
        "valores_nulos"
      ],
      "metadata": {
        "id": "sAvP9y7or1q-"
      },
      "execution_count": null,
      "outputs": []
    },
    {
      "cell_type": "markdown",
      "source": [
        "**METODOS DE SUSTITUCIÓN DE VALORES NULOS**"
      ],
      "metadata": {
        "id": "205I-N0LsFvB"
      }
    },
    {
      "cell_type": "code",
      "source": [
        "#Realizamos una copia del dataframe\n",
        "data3=data2.copy()"
      ],
      "metadata": {
        "id": "0aXnRHUmsJ5k"
      },
      "execution_count": 17,
      "outputs": []
    },
    {
      "cell_type": "code",
      "source": [
        "#Primer método de sustitución de valores nulos\n",
        "#Sustituir valores nulos con promedio o media\n",
        "data3[\"salon_ventas\"]=data3[\"salon_ventas\"].fillna(round(data2[\"salon_ventas\"].mean()))"
      ],
      "metadata": {
        "id": "4ol087JEsiwm"
      },
      "execution_count": 18,
      "outputs": []
    },
    {
      "cell_type": "code",
      "source": [
        "#Corroboramos valores nulos\n",
        "valores_nulos=data3.isnull().sum()\n",
        "valores_nulos"
      ],
      "metadata": {
        "id": "yHkdCvCRtNOa"
      },
      "execution_count": null,
      "outputs": []
    },
    {
      "cell_type": "code",
      "source": [
        "#Segundo método de sustitución de valores nulos\n",
        "#Sustituir valores nulos con mediana\n",
        "data3[\"tarjetas_debito\"]=data3[\"tarjetas_debito\"].fillna(round(data2[\"tarjetas_debito\"].median(),1))\n",
        "data3"
      ],
      "metadata": {
        "id": "4cnyUiTvt7AL"
      },
      "execution_count": null,
      "outputs": []
    },
    {
      "cell_type": "code",
      "source": [
        "#Corroboramos valores nulos\n",
        "valores_nulos=data3.isnull().sum()\n",
        "valores_nulos"
      ],
      "metadata": {
        "id": "IvWzqtYsuQ7i"
      },
      "execution_count": null,
      "outputs": []
    },
    {
      "cell_type": "code",
      "source": [
        "#Tercer método de sustitución de valores nulos\n",
        "#Sustituir valores nulos con mediana\n",
        "data3[\"tarjetas_credito\"]=data3[\"tarjetas_credito\"].fillna(10)\n",
        "data3"
      ],
      "metadata": {
        "id": "p6_bucUUuqmz"
      },
      "execution_count": null,
      "outputs": []
    },
    {
      "cell_type": "code",
      "source": [
        "#Corroboramos valores nulos\n",
        "valores_nulos=data3.isnull().sum()\n",
        "valores_nulos"
      ],
      "metadata": {
        "id": "nw-IkTsqvDrX"
      },
      "execution_count": null,
      "outputs": []
    },
    {
      "cell_type": "code",
      "source": [
        "#Cuarto método de sustitución de valores nulos\n",
        "#Sustituir valores nulos por un string en concreto\n",
        "data3[\"otros_medios\"]=data3[\"otros_medios\"].fillna(\"7940040.869\")\n",
        "data3"
      ],
      "metadata": {
        "id": "fHN4jkENvnyL"
      },
      "execution_count": null,
      "outputs": []
    },
    {
      "cell_type": "code",
      "source": [
        "#Corroboramos valores nulos\n",
        "valores_nulos=data3.isnull().sum()\n",
        "valores_nulos"
      ],
      "metadata": {
        "id": "AEXbtkVcv30K"
      },
      "execution_count": null,
      "outputs": []
    },
    {
      "cell_type": "code",
      "source": [
        "#Quinto método de sustitución de valores nulos\n",
        "#Sustituir valores nulos por valores no nulos hacia adelante \"forward fill\" (\"ffill\")\n",
        "#Filtro por columnas\n",
        "data3[\"subtotal_ventas_alimentos_bebidas\"]=data3[\"subtotal_ventas_alimentos_bebidas\"].fillna(method=\"ffill\")\n",
        "data3"
      ],
      "metadata": {
        "id": "Ft9N9lQxwI5P"
      },
      "execution_count": null,
      "outputs": []
    },
    {
      "cell_type": "code",
      "source": [
        "#Corroboramos valores nulos\n",
        "valores_nulos=data3.isnull().sum()\n",
        "valores_nulos"
      ],
      "metadata": {
        "id": "4ElLrDevwhRT"
      },
      "execution_count": null,
      "outputs": []
    },
    {
      "cell_type": "code",
      "source": [
        "#Sexto método de sustitución de valores nulos\n",
        "#Sustituir valores nulos por valores no nulos hacia atrás \"backward fill\" (\"bfill\")\n",
        "#Filtro por columnas\n",
        "data3[\"bebidas\"]=data3[\"bebidas\"].fillna(method=\"bfill\")\n",
        "data3"
      ],
      "metadata": {
        "id": "zHVxXpq0wlqz"
      },
      "execution_count": null,
      "outputs": []
    },
    {
      "cell_type": "code",
      "source": [
        "#Corroboramos valores nulos\n",
        "valores_nulos=data3.isnull().sum()\n",
        "valores_nulos"
      ],
      "metadata": {
        "id": "D-OFiTDFwz9-"
      },
      "execution_count": null,
      "outputs": []
    },
    {
      "cell_type": "code",
      "source": [
        "data3[\"almacen\"]=data3[\"almacen\"].fillna(method=\"bfill\")\n",
        "data3"
      ],
      "metadata": {
        "id": "04mgbAlaw3_R"
      },
      "execution_count": null,
      "outputs": []
    },
    {
      "cell_type": "code",
      "source": [
        "data3[\"panaderia\"]=data3[\"panaderia\"].fillna(method=\"ffill\")\n",
        "data3"
      ],
      "metadata": {
        "id": "x-7ukMTCxCnO"
      },
      "execution_count": null,
      "outputs": []
    },
    {
      "cell_type": "code",
      "source": [
        "data3[\"indumentaria_calzado_textiles_hogar\"]=data3[\"indumentaria_calzado_textiles_hogar\"].fillna(method=\"ffill\")\n",
        "data3"
      ],
      "metadata": {
        "id": "IDxWXewETL6h"
      },
      "execution_count": null,
      "outputs": []
    },
    {
      "cell_type": "code",
      "source": [
        "data3[\"electronicos_articulos_hogar\"]=data3[\"electronicos_articulos_hogar\"].fillna(round(data2[\"electronicos_articulos_hogar\"].mean()))"
      ],
      "metadata": {
        "id": "ftaH0KUsTMtI"
      },
      "execution_count": 35,
      "outputs": []
    },
    {
      "cell_type": "code",
      "source": [
        "data3[\"otros\"]=data3[\"otros\"].fillna(round(data2[\"otros\"].mean()))"
      ],
      "metadata": {
        "id": "1N6ShBetTlYa"
      },
      "execution_count": 36,
      "outputs": []
    },
    {
      "cell_type": "code",
      "source": [
        "data3[\"lacteos\"]=data3[\"lacteos\"].fillna(round(data2[\"lacteos\"].mean()))"
      ],
      "metadata": {
        "id": "LjnGMNHgUOWY"
      },
      "execution_count": 39,
      "outputs": []
    },
    {
      "cell_type": "code",
      "source": [
        "data3[\"carnes\"]=data3[\"carnes\"].fillna(round(data2[\"carnes\"].mean()))"
      ],
      "metadata": {
        "id": "FclA6BUwUO1g"
      },
      "execution_count": 40,
      "outputs": []
    },
    {
      "cell_type": "code",
      "source": [
        "data3[\"verduleria_fruteria\"]=data3[\"verduleria_fruteria\"].fillna(round(data2[\"verduleria_fruteria\"].mean()))"
      ],
      "metadata": {
        "id": "sTaYqb86UQjA"
      },
      "execution_count": 41,
      "outputs": []
    },
    {
      "cell_type": "code",
      "source": [
        "data3[\"alimentos_preparados_rotiseria\"]=data3[\"alimentos_preparados_rotiseria\"].fillna(round(data2[\"alimentos_preparados_rotiseria\"].mean()))"
      ],
      "metadata": {
        "id": "Hzp5Uu-dURiI"
      },
      "execution_count": 42,
      "outputs": []
    },
    {
      "cell_type": "code",
      "source": [
        "#Corroboramos valores nulos\n",
        "valores_nulos=data3.isnull().sum()\n",
        "valores_nulos"
      ],
      "metadata": {
        "id": "lTctkUQhw31h"
      },
      "execution_count": null,
      "outputs": []
    },
    {
      "cell_type": "markdown",
      "source": [
        "**ELIMINACION DE VALORES NULOS**"
      ],
      "metadata": {
        "id": "RN0aEsLUx7hR"
      }
    },
    {
      "cell_type": "code",
      "source": [
        "#Identificar valores nulos por columna\n",
        "valores_nulos=data2.isnull().sum()\n",
        "valores_nulos"
      ],
      "metadata": {
        "id": "PvkdQ8i4x-MB"
      },
      "execution_count": null,
      "outputs": []
    },
    {
      "cell_type": "code",
      "source": [
        "#Realizamos una copia del data frame\n",
        "data4=data2.copy()"
      ],
      "metadata": {
        "id": "6sqThheIyTlJ"
      },
      "execution_count": 44,
      "outputs": []
    },
    {
      "cell_type": "code",
      "source": [
        "#Eliminamos filas con nulos\n",
        "data4=data2.dropna()\n",
        "data4"
      ],
      "metadata": {
        "id": "r3FJkB5yyclW"
      },
      "execution_count": null,
      "outputs": []
    },
    {
      "cell_type": "code",
      "source": [
        "#Identificar valores nulos por columnas\n",
        "valores_nulos=data4.isnull().sum()\n",
        "valores_nulos"
      ],
      "metadata": {
        "id": "XQK2gfVFylG3"
      },
      "execution_count": null,
      "outputs": []
    },
    {
      "cell_type": "markdown",
      "source": [
        "**COMPARAMOS DATAFRAM3(SUSTITUCIÓN) Y DATAFRAME4(ELIMINACION)**"
      ],
      "metadata": {
        "id": "0cwHXmAiy-E4"
      }
    },
    {
      "cell_type": "code",
      "source": [
        "data3.info()"
      ],
      "metadata": {
        "id": "2YM_XTDzy9pW"
      },
      "execution_count": null,
      "outputs": []
    },
    {
      "cell_type": "code",
      "source": [
        "data4.info()"
      ],
      "metadata": {
        "id": "cD6kAe4TzNKI"
      },
      "execution_count": null,
      "outputs": []
    },
    {
      "cell_type": "markdown",
      "source": [
        "**CONVERTIR DATASET SIN VALORES NULOS A CSV**"
      ],
      "metadata": {
        "id": "hLdQ8qqdzR8l"
      }
    },
    {
      "cell_type": "code",
      "source": [
        "#Convertir DataFrame a CSV\n",
        "data3.to_csv(\"Ventas_Totales_sin_nulos.csv\")"
      ],
      "metadata": {
        "id": "T309eYXIzccY"
      },
      "execution_count": 49,
      "outputs": []
    },
    {
      "cell_type": "code",
      "source": [
        "#Descargar archivo filtrado en csv\n",
        "from google.colab import files"
      ],
      "metadata": {
        "id": "DEIozr7szkF6"
      },
      "execution_count": 50,
      "outputs": []
    },
    {
      "cell_type": "code",
      "source": [
        "files.download(\"Ventas_Totales_sin_nulos.csv\")"
      ],
      "metadata": {
        "colab": {
          "base_uri": "https://localhost:8080/",
          "height": 17
        },
        "id": "tnOHfo3vzrbM",
        "outputId": "f7211051-e8d1-4797-ce20-b49acbee4afe"
      },
      "execution_count": 51,
      "outputs": [
        {
          "output_type": "display_data",
          "data": {
            "text/plain": [
              "<IPython.core.display.Javascript object>"
            ],
            "application/javascript": [
              "\n",
              "    async function download(id, filename, size) {\n",
              "      if (!google.colab.kernel.accessAllowed) {\n",
              "        return;\n",
              "      }\n",
              "      const div = document.createElement('div');\n",
              "      const label = document.createElement('label');\n",
              "      label.textContent = `Downloading \"${filename}\": `;\n",
              "      div.appendChild(label);\n",
              "      const progress = document.createElement('progress');\n",
              "      progress.max = size;\n",
              "      div.appendChild(progress);\n",
              "      document.body.appendChild(div);\n",
              "\n",
              "      const buffers = [];\n",
              "      let downloaded = 0;\n",
              "\n",
              "      const channel = await google.colab.kernel.comms.open(id);\n",
              "      // Send a message to notify the kernel that we're ready.\n",
              "      channel.send({})\n",
              "\n",
              "      for await (const message of channel.messages) {\n",
              "        // Send a message to notify the kernel that we're ready.\n",
              "        channel.send({})\n",
              "        if (message.buffers) {\n",
              "          for (const buffer of message.buffers) {\n",
              "            buffers.push(buffer);\n",
              "            downloaded += buffer.byteLength;\n",
              "            progress.value = downloaded;\n",
              "          }\n",
              "        }\n",
              "      }\n",
              "      const blob = new Blob(buffers, {type: 'application/binary'});\n",
              "      const a = document.createElement('a');\n",
              "      a.href = window.URL.createObjectURL(blob);\n",
              "      a.download = filename;\n",
              "      div.appendChild(a);\n",
              "      a.click();\n",
              "      div.remove();\n",
              "    }\n",
              "  "
            ]
          },
          "metadata": {}
        },
        {
          "output_type": "display_data",
          "data": {
            "text/plain": [
              "<IPython.core.display.Javascript object>"
            ],
            "application/javascript": [
              "download(\"download_202c914e-436a-486b-a20a-4e4b0d4ba4b8\", \"Ventas_Totales_sin_nulos.csv\", 17832)"
            ]
          },
          "metadata": {}
        }
      ]
    }
  ]
}